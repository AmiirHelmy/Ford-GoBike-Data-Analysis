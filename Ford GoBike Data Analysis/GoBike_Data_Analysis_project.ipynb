{
 "cells": [
  {
   "cell_type": "markdown",
   "metadata": {},
   "source": [
    "# An Analysis of GoBike Data"
   ]
  },
  {
   "cell_type": "markdown",
   "metadata": {},
   "source": [
    "## Overview\n",
    "**This is an analysis of GoBike Data in the periods of Jan:Aug 2019 & Jan:Aug 2020. We chose these specific periods to inspect the impact of COVID-19 on the bussiness.** (Latest released data for 2020 was August, so we will work with 2019 data till August as well.)\n",
    "\n",
    "This analysis is done to **highlight COVID-19 impact, to gain insights about users & to help the company target offers in certain stations.**\n",
    "\n",
    "## Analysis approach\n",
    "\n",
    "**Univariate relationships:**\n",
    "\n",
    "- Number of rides per user type; who does the most rides?\n",
    "- Explore most used bike_type.\n",
    "- Explore start_weekday of trips.\n",
    "- Explore start_hour of trips.\n",
    "- Find top 10 stations (top-start & top-end) and the common stations between them to target offers to users visiting these places.\n",
    "\n",
    "**Bivariate relationships:**\n",
    "\n",
    "- Find most crowded stations at rush hours.\n",
    "- Explore bike rides in 2019 and 2020 throughout the period of Jan:Aug, and see if COVID-19 affected the bussiness; number of rides.\n",
    "- Compare rental_methods and user_types.\n",
    "- Is there a relationship between trip hour-time and user_type?\n",
    "- Explore the relationship between user_type, trip duration.\n",
    "\n",
    "**Multivariate relationships:**\n",
    "- Explore the relationship between start_weekday, trip_duration and user_type.\n",
    "\n",
    "## The Data\n",
    "\n",
    "**This data is provided according to the Bay Wheels License Agreement. Each trip is anonymized and includes:**\n",
    "\n",
    "- Trip Duration (in seconds)\n",
    "- Start Time and Date\n",
    "- End Time and Date\n",
    "- Start Station ID\n",
    "- Start Station Name\n",
    "- Start Station Latitude\n",
    "- Start Station Longitude\n",
    "- End Station ID\n",
    "- End Station Name\n",
    "- End Station Latitude\n",
    "- End Station Longitude\n",
    "- Bike ID\n",
    "- User Type (Subscriber or Customer – “Subscriber” = Member or “Customer” = Casual)"
   ]
  },
  {
   "cell_type": "code",
   "execution_count": 1,
   "metadata": {},
   "outputs": [],
   "source": [
    "import os\n",
    "import csv\n",
    "from requests import get\n",
    "from io import BytesIO\n",
    "from zipfile import ZipFile\n",
    "\n",
    "import numpy as np\n",
    "import pandas as pd\n",
    "import seaborn as sb\n",
    "import matplotlib.pyplot as plt\n",
    "\n",
    "%matplotlib inline"
   ]
  },
  {
   "cell_type": "code",
   "execution_count": 2,
   "metadata": {},
   "outputs": [],
   "source": [
    "def get_name(year, i):\n",
    "        \n",
    "    \"\"\"\n",
    "    \n",
    "    As file names change every year and every month,    \n",
    "    files from 1/2019 to 4/2019 have the name 'fordgobike'\n",
    "    while the rest have the name 'baywheels'\n",
    "    \n",
    "    This loop will generate variate fileName.csv(s)\n",
    "    to be used when downloading and extracting data\n",
    "    \n",
    "    \"\"\"\n",
    "    \n",
    "    if (year == '2019' and i < 5):\n",
    "            name = '{}0{}-fordgobike-tripdata.csv'.format(year, str(i))\n",
    "            \n",
    "    else:\n",
    "            name = '{}0{}-baywheels-tripdata.csv'.format(year, str(i))\n",
    "    \n",
    "    return name"
   ]
  },
  {
   "cell_type": "code",
   "execution_count": 3,
   "metadata": {},
   "outputs": [],
   "source": [
    "def get_data():\n",
    "    \n",
    "    \"\"\"\n",
    "    \n",
    "    RUN ONCE TO DOWNLOAD DATA\n",
    "    \n",
    "    Download the data for the first time [1/2019 : 8/2019] & [1/2020 : 8/2020]\n",
    "    \n",
    "    \"\"\"\n",
    "    \n",
    "    years = ['2019', '2020']\n",
    "    \n",
    "    # years 2019 & 2020\n",
    "    for year in years: \n",
    "        \n",
    "        # months from 1 to 8\n",
    "        for i in range(1,9):\n",
    "            \n",
    "            name = get_name(year, i)\n",
    "            url = 'https://s3.amazonaws.com/baywheels-data/{}.zip'.format(name)\n",
    "\n",
    "            request = get(url, allow_redirects = True)\n",
    "            zip_file = ZipFile(BytesIO(request.content))\n",
    "            files = zip_file.namelist()\n",
    "\n",
    "            zip_file.extractall('data')"
   ]
  },
  {
   "cell_type": "code",
   "execution_count": 4,
   "metadata": {},
   "outputs": [],
   "source": [
    "# Uncomment to download the data for the first time [1/2019 : 8/2019] & [1/2020 : 8/2020]\n",
    "#get_data()"
   ]
  },
  {
   "cell_type": "code",
   "execution_count": 5,
   "metadata": {},
   "outputs": [],
   "source": [
    "def create_df_of_all_data():\n",
    "    \n",
    "    \"\"\"\n",
    "    \n",
    "    RUN ONCE TO CREATE DATA (COMBINE CSVs)\n",
    "    \n",
    "    combine data [1/2019 : 8/2019] & [1/2020 : 8/2020] in one dataframe\n",
    "    \n",
    "    \"\"\"\n",
    "    \n",
    "    # specifying columns\n",
    "    # sorted to avoid mixing types.\n",
    "    columns = sorted(['duration_sec', 'start_time', 'end_time', 'start_station_id', 'start_station_name',\n",
    "           'start_station_latitude', 'start_station_longitude', 'end_station_id', 'end_station_name',\n",
    "           'end_station_latitude', 'end_station_longitude', 'bike_id', 'user_type',\n",
    "           'bike_share_for_all_trip', 'rental_access_method'])\n",
    "    \n",
    "    # declaring empty dataframe with these column names\n",
    "    df = pd.DataFrame([], columns=columns)\n",
    "    \n",
    "    years = ['2019', '2020']\n",
    "    \n",
    "    # years 2019 & 2020\n",
    "    for year in years: \n",
    "        \n",
    "        # months from 1 to 8\n",
    "        for i in range(1,9):\n",
    "            # getting name\n",
    "            name = get_name(year, i)\n",
    "            \n",
    "            # appending rows to df to contain all data \n",
    "            df = df.append(pd.read_csv('./data/' + name, low_memory=False), sort=True)\n",
    "            \n",
    "    df.to_csv(r'./data/2019_2020_BikeData_1_to_8.csv', index=False)"
   ]
  },
  {
   "cell_type": "code",
   "execution_count": 6,
   "metadata": {},
   "outputs": [],
   "source": [
    "# Uncomment if running for the first time\n",
    "# create_df_of_all_data()"
   ]
  },
  {
   "cell_type": "code",
   "execution_count": 7,
   "metadata": {},
   "outputs": [],
   "source": [
    "# reading dataframe of all data\n",
    "df = pd.read_csv('./data/2019_2020_BikeData_1_to_8.csv', low_memory=False)"
   ]
  },
  {
   "cell_type": "code",
   "execution_count": 8,
   "metadata": {},
   "outputs": [
    {
     "data": {
      "text/html": [
       "<div>\n",
       "<style scoped>\n",
       "    .dataframe tbody tr th:only-of-type {\n",
       "        vertical-align: middle;\n",
       "    }\n",
       "\n",
       "    .dataframe tbody tr th {\n",
       "        vertical-align: top;\n",
       "    }\n",
       "\n",
       "    .dataframe thead th {\n",
       "        text-align: right;\n",
       "    }\n",
       "</style>\n",
       "<table border=\"1\" class=\"dataframe\">\n",
       "  <thead>\n",
       "    <tr style=\"text-align: right;\">\n",
       "      <th></th>\n",
       "      <th>bike_id</th>\n",
       "      <th>bike_share_for_all_trip</th>\n",
       "      <th>duration_sec</th>\n",
       "      <th>end_lat</th>\n",
       "      <th>end_lng</th>\n",
       "      <th>end_station_id</th>\n",
       "      <th>end_station_latitude</th>\n",
       "      <th>end_station_longitude</th>\n",
       "      <th>end_station_name</th>\n",
       "      <th>end_time</th>\n",
       "      <th>...</th>\n",
       "      <th>rideable_type</th>\n",
       "      <th>start_lat</th>\n",
       "      <th>start_lng</th>\n",
       "      <th>start_station_id</th>\n",
       "      <th>start_station_latitude</th>\n",
       "      <th>start_station_longitude</th>\n",
       "      <th>start_station_name</th>\n",
       "      <th>start_time</th>\n",
       "      <th>started_at</th>\n",
       "      <th>user_type</th>\n",
       "    </tr>\n",
       "  </thead>\n",
       "  <tbody>\n",
       "    <tr>\n",
       "      <th>0</th>\n",
       "      <td>4861.0</td>\n",
       "      <td>No</td>\n",
       "      <td>80825.0</td>\n",
       "      <td>NaN</td>\n",
       "      <td>NaN</td>\n",
       "      <td>196.0</td>\n",
       "      <td>37.808894</td>\n",
       "      <td>-122.256460</td>\n",
       "      <td>Grand Ave at Perkins St</td>\n",
       "      <td>2019-02-01 16:24:49.8640</td>\n",
       "      <td>...</td>\n",
       "      <td>NaN</td>\n",
       "      <td>NaN</td>\n",
       "      <td>NaN</td>\n",
       "      <td>229.0</td>\n",
       "      <td>37.775745</td>\n",
       "      <td>-122.213037</td>\n",
       "      <td>Foothill Blvd at 42nd Ave</td>\n",
       "      <td>2019-01-31 17:57:44.6130</td>\n",
       "      <td>NaN</td>\n",
       "      <td>Subscriber</td>\n",
       "    </tr>\n",
       "    <tr>\n",
       "      <th>1</th>\n",
       "      <td>5506.0</td>\n",
       "      <td>No</td>\n",
       "      <td>65900.0</td>\n",
       "      <td>NaN</td>\n",
       "      <td>NaN</td>\n",
       "      <td>134.0</td>\n",
       "      <td>37.752428</td>\n",
       "      <td>-122.420628</td>\n",
       "      <td>Valencia St at 24th St</td>\n",
       "      <td>2019-02-01 15:16:54.1730</td>\n",
       "      <td>...</td>\n",
       "      <td>NaN</td>\n",
       "      <td>NaN</td>\n",
       "      <td>NaN</td>\n",
       "      <td>4.0</td>\n",
       "      <td>37.785881</td>\n",
       "      <td>-122.408915</td>\n",
       "      <td>Cyril Magnin St at Ellis St</td>\n",
       "      <td>2019-01-31 20:58:33.8860</td>\n",
       "      <td>NaN</td>\n",
       "      <td>Subscriber</td>\n",
       "    </tr>\n",
       "    <tr>\n",
       "      <th>2</th>\n",
       "      <td>2717.0</td>\n",
       "      <td>No</td>\n",
       "      <td>62633.0</td>\n",
       "      <td>NaN</td>\n",
       "      <td>NaN</td>\n",
       "      <td>157.0</td>\n",
       "      <td>37.846784</td>\n",
       "      <td>-122.291376</td>\n",
       "      <td>65th St at Hollis St</td>\n",
       "      <td>2019-02-01 11:30:46.5300</td>\n",
       "      <td>...</td>\n",
       "      <td>NaN</td>\n",
       "      <td>NaN</td>\n",
       "      <td>NaN</td>\n",
       "      <td>245.0</td>\n",
       "      <td>37.870139</td>\n",
       "      <td>-122.268422</td>\n",
       "      <td>Downtown Berkeley BART</td>\n",
       "      <td>2019-01-31 18:06:52.9240</td>\n",
       "      <td>NaN</td>\n",
       "      <td>Customer</td>\n",
       "    </tr>\n",
       "    <tr>\n",
       "      <th>3</th>\n",
       "      <td>4557.0</td>\n",
       "      <td>No</td>\n",
       "      <td>44680.0</td>\n",
       "      <td>NaN</td>\n",
       "      <td>NaN</td>\n",
       "      <td>53.0</td>\n",
       "      <td>37.775946</td>\n",
       "      <td>-122.437777</td>\n",
       "      <td>Grove St at Divisadero</td>\n",
       "      <td>2019-02-01 08:10:50.3180</td>\n",
       "      <td>...</td>\n",
       "      <td>NaN</td>\n",
       "      <td>NaN</td>\n",
       "      <td>NaN</td>\n",
       "      <td>85.0</td>\n",
       "      <td>37.770083</td>\n",
       "      <td>-122.429156</td>\n",
       "      <td>Church St at Duboce Ave</td>\n",
       "      <td>2019-01-31 19:46:09.7190</td>\n",
       "      <td>NaN</td>\n",
       "      <td>Customer</td>\n",
       "    </tr>\n",
       "    <tr>\n",
       "      <th>4</th>\n",
       "      <td>2100.0</td>\n",
       "      <td>No</td>\n",
       "      <td>60709.0</td>\n",
       "      <td>NaN</td>\n",
       "      <td>NaN</td>\n",
       "      <td>28.0</td>\n",
       "      <td>37.787168</td>\n",
       "      <td>-122.388098</td>\n",
       "      <td>The Embarcadero at Bryant St</td>\n",
       "      <td>2019-02-01 07:10:51.0650</td>\n",
       "      <td>...</td>\n",
       "      <td>NaN</td>\n",
       "      <td>NaN</td>\n",
       "      <td>NaN</td>\n",
       "      <td>16.0</td>\n",
       "      <td>37.794130</td>\n",
       "      <td>-122.394430</td>\n",
       "      <td>Steuart St at Market St</td>\n",
       "      <td>2019-01-31 14:19:01.5410</td>\n",
       "      <td>NaN</td>\n",
       "      <td>Customer</td>\n",
       "    </tr>\n",
       "  </tbody>\n",
       "</table>\n",
       "<p>5 rows × 24 columns</p>\n",
       "</div>"
      ],
      "text/plain": [
       "   bike_id bike_share_for_all_trip  duration_sec  end_lat  end_lng  \\\n",
       "0   4861.0                      No       80825.0      NaN      NaN   \n",
       "1   5506.0                      No       65900.0      NaN      NaN   \n",
       "2   2717.0                      No       62633.0      NaN      NaN   \n",
       "3   4557.0                      No       44680.0      NaN      NaN   \n",
       "4   2100.0                      No       60709.0      NaN      NaN   \n",
       "\n",
       "  end_station_id  end_station_latitude  end_station_longitude  \\\n",
       "0          196.0             37.808894            -122.256460   \n",
       "1          134.0             37.752428            -122.420628   \n",
       "2          157.0             37.846784            -122.291376   \n",
       "3           53.0             37.775946            -122.437777   \n",
       "4           28.0             37.787168            -122.388098   \n",
       "\n",
       "               end_station_name                  end_time  ... rideable_type  \\\n",
       "0       Grand Ave at Perkins St  2019-02-01 16:24:49.8640  ...           NaN   \n",
       "1        Valencia St at 24th St  2019-02-01 15:16:54.1730  ...           NaN   \n",
       "2          65th St at Hollis St  2019-02-01 11:30:46.5300  ...           NaN   \n",
       "3        Grove St at Divisadero  2019-02-01 08:10:50.3180  ...           NaN   \n",
       "4  The Embarcadero at Bryant St  2019-02-01 07:10:51.0650  ...           NaN   \n",
       "\n",
       "  start_lat start_lng start_station_id start_station_latitude  \\\n",
       "0       NaN       NaN            229.0              37.775745   \n",
       "1       NaN       NaN              4.0              37.785881   \n",
       "2       NaN       NaN            245.0              37.870139   \n",
       "3       NaN       NaN             85.0              37.770083   \n",
       "4       NaN       NaN             16.0              37.794130   \n",
       "\n",
       "   start_station_longitude           start_station_name  \\\n",
       "0              -122.213037    Foothill Blvd at 42nd Ave   \n",
       "1              -122.408915  Cyril Magnin St at Ellis St   \n",
       "2              -122.268422       Downtown Berkeley BART   \n",
       "3              -122.429156      Church St at Duboce Ave   \n",
       "4              -122.394430      Steuart St at Market St   \n",
       "\n",
       "                 start_time  started_at   user_type  \n",
       "0  2019-01-31 17:57:44.6130         NaN  Subscriber  \n",
       "1  2019-01-31 20:58:33.8860         NaN  Subscriber  \n",
       "2  2019-01-31 18:06:52.9240         NaN    Customer  \n",
       "3  2019-01-31 19:46:09.7190         NaN    Customer  \n",
       "4  2019-01-31 14:19:01.5410         NaN    Customer  \n",
       "\n",
       "[5 rows x 24 columns]"
      ]
     },
     "execution_count": 8,
     "metadata": {},
     "output_type": "execute_result"
    }
   ],
   "source": [
    "df.head()"
   ]
  },
  {
   "cell_type": "code",
   "execution_count": 9,
   "metadata": {},
   "outputs": [
    {
     "data": {
      "text/plain": [
       "(3307800, 24)"
      ]
     },
     "execution_count": 9,
     "metadata": {},
     "output_type": "execute_result"
    }
   ],
   "source": [
    "df.shape"
   ]
  },
  {
   "cell_type": "markdown",
   "metadata": {},
   "source": [
    "**This dataset has 3307800 records (rows) and 25 attributes (cols).**"
   ]
  },
  {
   "cell_type": "code",
   "execution_count": 10,
   "metadata": {},
   "outputs": [
    {
     "name": "stdout",
     "output_type": "stream",
     "text": [
      "<class 'pandas.core.frame.DataFrame'>\n",
      "RangeIndex: 3307800 entries, 0 to 3307799\n",
      "Data columns (total 24 columns):\n",
      " #   Column                   Dtype  \n",
      "---  ------                   -----  \n",
      " 0   bike_id                  float64\n",
      " 1   bike_share_for_all_trip  object \n",
      " 2   duration_sec             float64\n",
      " 3   end_lat                  float64\n",
      " 4   end_lng                  float64\n",
      " 5   end_station_id           object \n",
      " 6   end_station_latitude     float64\n",
      " 7   end_station_longitude    float64\n",
      " 8   end_station_name         object \n",
      " 9   end_time                 object \n",
      " 10  ended_at                 object \n",
      " 11  member_casual            object \n",
      " 12  rental_access_method     object \n",
      " 13  ride_id                  object \n",
      " 14  rideable_type            object \n",
      " 15  start_lat                float64\n",
      " 16  start_lng                float64\n",
      " 17  start_station_id         object \n",
      " 18  start_station_latitude   float64\n",
      " 19  start_station_longitude  float64\n",
      " 20  start_station_name       object \n",
      " 21  start_time               object \n",
      " 22  started_at               object \n",
      " 23  user_type                object \n",
      "dtypes: float64(10), object(14)\n",
      "memory usage: 605.7+ MB\n"
     ]
    }
   ],
   "source": [
    "df.info()"
   ]
  },
  {
   "cell_type": "markdown",
   "metadata": {},
   "source": [
    "**We won't use all of these columns, as some of them are irrelevant to our analysis, will only use:**\n",
    "\n",
    "- 'start_station_name'\n",
    "- 'end_station_name'\n",
    "- 'rental_access_method'\n",
    "- 'rideable_type'\n",
    "\n",
    "- **'duration_sec':** will extract duration in minutes \n",
    "- **'start_time', 'started_at':** same info, will combine them (fill Nulls in one column with its value in the other because they changed the column name in some months), will also change the column's type to datetime to extract year, month, day and weekday.\n",
    "- **'end_time', 'ended_at':** same info, will combine them (fill Nulls in one column with its value in the other), will also change the column's type to datetime.\n",
    "- **'member_casual', 'user_type':** same info, will combine them (fill Nulls in one column with its value in the other) and encode member >> subscriber & casual >> customer."
   ]
  },
  {
   "cell_type": "markdown",
   "metadata": {},
   "source": [
    "## Data Wrangling"
   ]
  },
  {
   "cell_type": "code",
   "execution_count": 11,
   "metadata": {},
   "outputs": [],
   "source": [
    "# Specifying columns that will be used\n",
    "cols = ['start_station_name', 'end_station_name', 'rental_access_method',\n",
    "        'rideable_type', 'duration_sec', 'start_time', 'started_at',\n",
    "        'end_time', 'ended_at', 'member_casual', 'user_type']"
   ]
  },
  {
   "cell_type": "code",
   "execution_count": 12,
   "metadata": {},
   "outputs": [],
   "source": [
    "data = df[cols].iloc[:]"
   ]
  },
  {
   "cell_type": "code",
   "execution_count": 13,
   "metadata": {},
   "outputs": [
    {
     "data": {
      "text/html": [
       "<div>\n",
       "<style scoped>\n",
       "    .dataframe tbody tr th:only-of-type {\n",
       "        vertical-align: middle;\n",
       "    }\n",
       "\n",
       "    .dataframe tbody tr th {\n",
       "        vertical-align: top;\n",
       "    }\n",
       "\n",
       "    .dataframe thead th {\n",
       "        text-align: right;\n",
       "    }\n",
       "</style>\n",
       "<table border=\"1\" class=\"dataframe\">\n",
       "  <thead>\n",
       "    <tr style=\"text-align: right;\">\n",
       "      <th></th>\n",
       "      <th>start_station_name</th>\n",
       "      <th>end_station_name</th>\n",
       "      <th>rental_access_method</th>\n",
       "      <th>rideable_type</th>\n",
       "      <th>duration_sec</th>\n",
       "      <th>start_time</th>\n",
       "      <th>started_at</th>\n",
       "      <th>end_time</th>\n",
       "      <th>ended_at</th>\n",
       "      <th>member_casual</th>\n",
       "      <th>user_type</th>\n",
       "    </tr>\n",
       "  </thead>\n",
       "  <tbody>\n",
       "    <tr>\n",
       "      <th>0</th>\n",
       "      <td>Foothill Blvd at 42nd Ave</td>\n",
       "      <td>Grand Ave at Perkins St</td>\n",
       "      <td>NaN</td>\n",
       "      <td>NaN</td>\n",
       "      <td>80825.0</td>\n",
       "      <td>2019-01-31 17:57:44.6130</td>\n",
       "      <td>NaN</td>\n",
       "      <td>2019-02-01 16:24:49.8640</td>\n",
       "      <td>NaN</td>\n",
       "      <td>NaN</td>\n",
       "      <td>Subscriber</td>\n",
       "    </tr>\n",
       "    <tr>\n",
       "      <th>1</th>\n",
       "      <td>Cyril Magnin St at Ellis St</td>\n",
       "      <td>Valencia St at 24th St</td>\n",
       "      <td>NaN</td>\n",
       "      <td>NaN</td>\n",
       "      <td>65900.0</td>\n",
       "      <td>2019-01-31 20:58:33.8860</td>\n",
       "      <td>NaN</td>\n",
       "      <td>2019-02-01 15:16:54.1730</td>\n",
       "      <td>NaN</td>\n",
       "      <td>NaN</td>\n",
       "      <td>Subscriber</td>\n",
       "    </tr>\n",
       "    <tr>\n",
       "      <th>2</th>\n",
       "      <td>Downtown Berkeley BART</td>\n",
       "      <td>65th St at Hollis St</td>\n",
       "      <td>NaN</td>\n",
       "      <td>NaN</td>\n",
       "      <td>62633.0</td>\n",
       "      <td>2019-01-31 18:06:52.9240</td>\n",
       "      <td>NaN</td>\n",
       "      <td>2019-02-01 11:30:46.5300</td>\n",
       "      <td>NaN</td>\n",
       "      <td>NaN</td>\n",
       "      <td>Customer</td>\n",
       "    </tr>\n",
       "    <tr>\n",
       "      <th>3</th>\n",
       "      <td>Church St at Duboce Ave</td>\n",
       "      <td>Grove St at Divisadero</td>\n",
       "      <td>NaN</td>\n",
       "      <td>NaN</td>\n",
       "      <td>44680.0</td>\n",
       "      <td>2019-01-31 19:46:09.7190</td>\n",
       "      <td>NaN</td>\n",
       "      <td>2019-02-01 08:10:50.3180</td>\n",
       "      <td>NaN</td>\n",
       "      <td>NaN</td>\n",
       "      <td>Customer</td>\n",
       "    </tr>\n",
       "    <tr>\n",
       "      <th>4</th>\n",
       "      <td>Steuart St at Market St</td>\n",
       "      <td>The Embarcadero at Bryant St</td>\n",
       "      <td>NaN</td>\n",
       "      <td>NaN</td>\n",
       "      <td>60709.0</td>\n",
       "      <td>2019-01-31 14:19:01.5410</td>\n",
       "      <td>NaN</td>\n",
       "      <td>2019-02-01 07:10:51.0650</td>\n",
       "      <td>NaN</td>\n",
       "      <td>NaN</td>\n",
       "      <td>Customer</td>\n",
       "    </tr>\n",
       "  </tbody>\n",
       "</table>\n",
       "</div>"
      ],
      "text/plain": [
       "            start_station_name              end_station_name  \\\n",
       "0    Foothill Blvd at 42nd Ave       Grand Ave at Perkins St   \n",
       "1  Cyril Magnin St at Ellis St        Valencia St at 24th St   \n",
       "2       Downtown Berkeley BART          65th St at Hollis St   \n",
       "3      Church St at Duboce Ave        Grove St at Divisadero   \n",
       "4      Steuart St at Market St  The Embarcadero at Bryant St   \n",
       "\n",
       "  rental_access_method rideable_type  duration_sec                start_time  \\\n",
       "0                  NaN           NaN       80825.0  2019-01-31 17:57:44.6130   \n",
       "1                  NaN           NaN       65900.0  2019-01-31 20:58:33.8860   \n",
       "2                  NaN           NaN       62633.0  2019-01-31 18:06:52.9240   \n",
       "3                  NaN           NaN       44680.0  2019-01-31 19:46:09.7190   \n",
       "4                  NaN           NaN       60709.0  2019-01-31 14:19:01.5410   \n",
       "\n",
       "  started_at                  end_time ended_at member_casual   user_type  \n",
       "0        NaN  2019-02-01 16:24:49.8640      NaN           NaN  Subscriber  \n",
       "1        NaN  2019-02-01 15:16:54.1730      NaN           NaN  Subscriber  \n",
       "2        NaN  2019-02-01 11:30:46.5300      NaN           NaN    Customer  \n",
       "3        NaN  2019-02-01 08:10:50.3180      NaN           NaN    Customer  \n",
       "4        NaN  2019-02-01 07:10:51.0650      NaN           NaN    Customer  "
      ]
     },
     "execution_count": 13,
     "metadata": {},
     "output_type": "execute_result"
    }
   ],
   "source": [
    "data.head()"
   ]
  },
  {
   "cell_type": "code",
   "execution_count": 14,
   "metadata": {},
   "outputs": [
    {
     "data": {
      "text/plain": [
       "(3307800, 11)"
      ]
     },
     "execution_count": 14,
     "metadata": {},
     "output_type": "execute_result"
    }
   ],
   "source": [
    "data.shape"
   ]
  },
  {
   "cell_type": "markdown",
   "metadata": {},
   "source": [
    "**Now the dataset has 3307800 records (rows) and 11 attributes (cols).**"
   ]
  },
  {
   "cell_type": "code",
   "execution_count": 15,
   "metadata": {},
   "outputs": [
    {
     "name": "stdout",
     "output_type": "stream",
     "text": [
      "<class 'pandas.core.frame.DataFrame'>\n",
      "RangeIndex: 3307800 entries, 0 to 3307799\n",
      "Data columns (total 11 columns):\n",
      " #   Column                Dtype  \n",
      "---  ------                -----  \n",
      " 0   start_station_name    object \n",
      " 1   end_station_name      object \n",
      " 2   rental_access_method  object \n",
      " 3   rideable_type         object \n",
      " 4   duration_sec          float64\n",
      " 5   start_time            object \n",
      " 6   started_at            object \n",
      " 7   end_time              object \n",
      " 8   ended_at              object \n",
      " 9   member_casual         object \n",
      " 10  user_type             object \n",
      "dtypes: float64(1), object(10)\n",
      "memory usage: 277.6+ MB\n"
     ]
    }
   ],
   "source": [
    "data.info()"
   ]
  },
  {
   "cell_type": "code",
   "execution_count": 16,
   "metadata": {},
   "outputs": [
    {
     "data": {
      "text/plain": [
       "start_station_name       784628\n",
       "end_station_name         797919\n",
       "rental_access_method    2598195\n",
       "rideable_type           2618511\n",
       "duration_sec             689289\n",
       "start_time               689289\n",
       "started_at              2618511\n",
       "end_time                 689289\n",
       "ended_at                2618511\n",
       "member_casual           2618511\n",
       "user_type                689289\n",
       "dtype: int64"
      ]
     },
     "execution_count": 16,
     "metadata": {},
     "output_type": "execute_result"
    }
   ],
   "source": [
    "data.isna().sum()"
   ]
  },
  {
   "cell_type": "markdown",
   "metadata": {},
   "source": [
    "## Checking for duplicates"
   ]
  },
  {
   "cell_type": "code",
   "execution_count": 17,
   "metadata": {},
   "outputs": [
    {
     "data": {
      "text/plain": [
       "7587"
      ]
     },
     "execution_count": 17,
     "metadata": {},
     "output_type": "execute_result"
    }
   ],
   "source": [
    "data.duplicated().sum()"
   ]
  },
  {
   "cell_type": "code",
   "execution_count": 18,
   "metadata": {},
   "outputs": [],
   "source": [
    "data.drop_duplicates(inplace=True)"
   ]
  },
  {
   "cell_type": "code",
   "execution_count": 19,
   "metadata": {},
   "outputs": [
    {
     "data": {
      "text/plain": [
       "0"
      ]
     },
     "execution_count": 19,
     "metadata": {},
     "output_type": "execute_result"
    }
   ],
   "source": [
    "data.duplicated().sum()"
   ]
  },
  {
   "cell_type": "markdown",
   "metadata": {},
   "source": [
    "## Editing columns\n",
    "\n",
    "1. Convert duration from seconds to minutes\n",
    "2. Fill Nulls in 'start_time'  from their corresponding values in 'started_at'\n",
    "3. Fill Nulls in 'end_time' from their corresponding values in 'ended_at'\n",
    "4. Fill Nulls in 'user_type' from their corresponding values in 'member_casual', edit  member >> subscriber & casual >> customer\n",
    "5. Drop not-needed columns\n",
    "6. Extract duration in minutes from (end_time - start_time)\n",
    "7. Extract year, month, day, hour, weekday from start_time"
   ]
  },
  {
   "cell_type": "markdown",
   "metadata": {},
   "source": [
    "### 1. Convert duration from seconds to minutes"
   ]
  },
  {
   "cell_type": "code",
   "execution_count": 20,
   "metadata": {},
   "outputs": [],
   "source": [
    "data[\"duration_min\"] = data.duration_sec/60"
   ]
  },
  {
   "cell_type": "markdown",
   "metadata": {},
   "source": [
    "### 2. Fill Nulls in 'start_time'  from their corresponding values in 'started_at'"
   ]
  },
  {
   "cell_type": "code",
   "execution_count": 21,
   "metadata": {},
   "outputs": [],
   "source": [
    "data.start_time.fillna(data[\"started_at\"], axis=0 ,inplace=True)"
   ]
  },
  {
   "cell_type": "markdown",
   "metadata": {},
   "source": [
    "### 3. Fill Nulls in 'end_time' from their corresponding values in 'ended_at' "
   ]
  },
  {
   "cell_type": "code",
   "execution_count": 22,
   "metadata": {},
   "outputs": [],
   "source": [
    "data.end_time.fillna(data[\"ended_at\"], axis=0 , inplace=True)"
   ]
  },
  {
   "cell_type": "markdown",
   "metadata": {},
   "source": [
    "### 4. Fill Nulls in 'user_type' from their corresponding values in 'member_casual'"
   ]
  },
  {
   "cell_type": "code",
   "execution_count": 23,
   "metadata": {},
   "outputs": [],
   "source": [
    "# fill NULLs\n",
    "data.user_type.fillna(data[\"member_casual\"], axis=0 , inplace=True)\n",
    "\n",
    "# edit member >> subscriber\n",
    "data.loc[data.user_type == \"member\",\"user_type\"] = 'Subscriber'\n",
    "\n",
    "# edit casual >> custome\n",
    "data.loc[data.user_type == \"casual\", \"user_type\"] = \"Customer\""
   ]
  },
  {
   "cell_type": "markdown",
   "metadata": {},
   "source": [
    "### 5. Drop ['started_at',  'ended_at',  'member_casual', 'duration_sec']   because we no longer need them, we combined them with the other columns (same info)"
   ]
  },
  {
   "cell_type": "code",
   "execution_count": 24,
   "metadata": {},
   "outputs": [],
   "source": [
    "to_drop = ['started_at', 'ended_at', 'member_casual', 'duration_sec']\n",
    "data.drop(to_drop, axis=1, inplace=True)"
   ]
  },
  {
   "cell_type": "code",
   "execution_count": 25,
   "metadata": {},
   "outputs": [
    {
     "data": {
      "text/plain": [
       "start_station_name       778235\n",
       "end_station_name         791538\n",
       "rental_access_method    2598164\n",
       "rideable_type           2610955\n",
       "start_time                    0\n",
       "end_time                      0\n",
       "user_type                     0\n",
       "duration_min             689258\n",
       "dtype: int64"
      ]
     },
     "execution_count": 25,
     "metadata": {},
     "output_type": "execute_result"
    }
   ],
   "source": [
    "data.isna().sum()"
   ]
  },
  {
   "cell_type": "markdown",
   "metadata": {},
   "source": [
    "**Minutes column has missing values, however, start_time & end_time don't, we can calculate those missing values by endtime - start_time in minutes.**"
   ]
  },
  {
   "cell_type": "markdown",
   "metadata": {},
   "source": [
    "### 6. Extract duration in minutes from (end_time - start_time)\n"
   ]
  },
  {
   "cell_type": "code",
   "execution_count": 26,
   "metadata": {},
   "outputs": [],
   "source": [
    "# first, we make start_time & end_time columns of type datetime\n",
    "\n",
    "data[\"start_time\"] = pd.to_datetime(data.start_time)\n",
    "data[\"end_time\"] = pd.to_datetime(data.end_time)"
   ]
  },
  {
   "cell_type": "code",
   "execution_count": 27,
   "metadata": {},
   "outputs": [],
   "source": [
    "# calculate trip duration\n",
    "data['duration_min'] = (data['end_time'] - data['start_time']).dt.total_seconds()/60"
   ]
  },
  {
   "cell_type": "code",
   "execution_count": 28,
   "metadata": {},
   "outputs": [
    {
     "data": {
      "text/plain": [
       "start_station_name       778235\n",
       "end_station_name         791538\n",
       "rental_access_method    2598164\n",
       "rideable_type           2610955\n",
       "start_time                    0\n",
       "end_time                      0\n",
       "user_type                     0\n",
       "duration_min                  0\n",
       "dtype: int64"
      ]
     },
     "execution_count": 28,
     "metadata": {},
     "output_type": "execute_result"
    }
   ],
   "source": [
    "data.isna().sum()"
   ]
  },
  {
   "cell_type": "markdown",
   "metadata": {},
   "source": [
    "### 7.1. Extract year"
   ]
  },
  {
   "cell_type": "code",
   "execution_count": 29,
   "metadata": {},
   "outputs": [],
   "source": [
    "data['start_year'] = data['start_time'].dt.year"
   ]
  },
  {
   "cell_type": "markdown",
   "metadata": {},
   "source": [
    "###  7.2. Extract month"
   ]
  },
  {
   "cell_type": "code",
   "execution_count": 94,
   "metadata": {},
   "outputs": [],
   "source": [
    "data[\"start_month\"] =  data.start_time.dt.month"
   ]
  },
  {
   "cell_type": "markdown",
   "metadata": {},
   "source": [
    "### 7.3. Extract day\n"
   ]
  },
  {
   "cell_type": "code",
   "execution_count": 31,
   "metadata": {},
   "outputs": [],
   "source": [
    "data['start_day'] = data['start_time'].dt.day"
   ]
  },
  {
   "cell_type": "markdown",
   "metadata": {},
   "source": [
    "### 7.4. Extract start hour\n"
   ]
  },
  {
   "cell_type": "code",
   "execution_count": 32,
   "metadata": {},
   "outputs": [],
   "source": [
    "data['start_hour'] = data['start_time'].dt.hour"
   ]
  },
  {
   "cell_type": "markdown",
   "metadata": {},
   "source": [
    "### 7.5. Extract start weekday"
   ]
  },
  {
   "cell_type": "code",
   "execution_count": 33,
   "metadata": {},
   "outputs": [],
   "source": [
    "data['start_weekday'] = pd.Series(data.start_time).dt.day_name()"
   ]
  },
  {
   "cell_type": "markdown",
   "metadata": {},
   "source": [
    "### Check data\n"
   ]
  },
  {
   "cell_type": "code",
   "execution_count": 34,
   "metadata": {},
   "outputs": [
    {
     "data": {
      "text/html": [
       "<div>\n",
       "<style scoped>\n",
       "    .dataframe tbody tr th:only-of-type {\n",
       "        vertical-align: middle;\n",
       "    }\n",
       "\n",
       "    .dataframe tbody tr th {\n",
       "        vertical-align: top;\n",
       "    }\n",
       "\n",
       "    .dataframe thead th {\n",
       "        text-align: right;\n",
       "    }\n",
       "</style>\n",
       "<table border=\"1\" class=\"dataframe\">\n",
       "  <thead>\n",
       "    <tr style=\"text-align: right;\">\n",
       "      <th></th>\n",
       "      <th>start_station_name</th>\n",
       "      <th>end_station_name</th>\n",
       "      <th>rental_access_method</th>\n",
       "      <th>rideable_type</th>\n",
       "      <th>start_time</th>\n",
       "      <th>end_time</th>\n",
       "      <th>user_type</th>\n",
       "      <th>duration_min</th>\n",
       "      <th>start_year</th>\n",
       "      <th>start_month</th>\n",
       "      <th>start_day</th>\n",
       "      <th>start_hour</th>\n",
       "      <th>start_weekday</th>\n",
       "    </tr>\n",
       "  </thead>\n",
       "  <tbody>\n",
       "    <tr>\n",
       "      <th>0</th>\n",
       "      <td>Foothill Blvd at 42nd Ave</td>\n",
       "      <td>Grand Ave at Perkins St</td>\n",
       "      <td>NaN</td>\n",
       "      <td>NaN</td>\n",
       "      <td>2019-01-31 17:57:44.613</td>\n",
       "      <td>2019-02-01 16:24:49.864</td>\n",
       "      <td>Subscriber</td>\n",
       "      <td>1347.087517</td>\n",
       "      <td>2019</td>\n",
       "      <td>2019</td>\n",
       "      <td>31</td>\n",
       "      <td>17</td>\n",
       "      <td>Thursday</td>\n",
       "    </tr>\n",
       "    <tr>\n",
       "      <th>1</th>\n",
       "      <td>Cyril Magnin St at Ellis St</td>\n",
       "      <td>Valencia St at 24th St</td>\n",
       "      <td>NaN</td>\n",
       "      <td>NaN</td>\n",
       "      <td>2019-01-31 20:58:33.886</td>\n",
       "      <td>2019-02-01 15:16:54.173</td>\n",
       "      <td>Subscriber</td>\n",
       "      <td>1098.338117</td>\n",
       "      <td>2019</td>\n",
       "      <td>2019</td>\n",
       "      <td>31</td>\n",
       "      <td>20</td>\n",
       "      <td>Thursday</td>\n",
       "    </tr>\n",
       "    <tr>\n",
       "      <th>2</th>\n",
       "      <td>Downtown Berkeley BART</td>\n",
       "      <td>65th St at Hollis St</td>\n",
       "      <td>NaN</td>\n",
       "      <td>NaN</td>\n",
       "      <td>2019-01-31 18:06:52.924</td>\n",
       "      <td>2019-02-01 11:30:46.530</td>\n",
       "      <td>Customer</td>\n",
       "      <td>1043.893433</td>\n",
       "      <td>2019</td>\n",
       "      <td>2019</td>\n",
       "      <td>31</td>\n",
       "      <td>18</td>\n",
       "      <td>Thursday</td>\n",
       "    </tr>\n",
       "    <tr>\n",
       "      <th>3</th>\n",
       "      <td>Church St at Duboce Ave</td>\n",
       "      <td>Grove St at Divisadero</td>\n",
       "      <td>NaN</td>\n",
       "      <td>NaN</td>\n",
       "      <td>2019-01-31 19:46:09.719</td>\n",
       "      <td>2019-02-01 08:10:50.318</td>\n",
       "      <td>Customer</td>\n",
       "      <td>744.676650</td>\n",
       "      <td>2019</td>\n",
       "      <td>2019</td>\n",
       "      <td>31</td>\n",
       "      <td>19</td>\n",
       "      <td>Thursday</td>\n",
       "    </tr>\n",
       "    <tr>\n",
       "      <th>4</th>\n",
       "      <td>Steuart St at Market St</td>\n",
       "      <td>The Embarcadero at Bryant St</td>\n",
       "      <td>NaN</td>\n",
       "      <td>NaN</td>\n",
       "      <td>2019-01-31 14:19:01.541</td>\n",
       "      <td>2019-02-01 07:10:51.065</td>\n",
       "      <td>Customer</td>\n",
       "      <td>1011.825400</td>\n",
       "      <td>2019</td>\n",
       "      <td>2019</td>\n",
       "      <td>31</td>\n",
       "      <td>14</td>\n",
       "      <td>Thursday</td>\n",
       "    </tr>\n",
       "  </tbody>\n",
       "</table>\n",
       "</div>"
      ],
      "text/plain": [
       "            start_station_name              end_station_name  \\\n",
       "0    Foothill Blvd at 42nd Ave       Grand Ave at Perkins St   \n",
       "1  Cyril Magnin St at Ellis St        Valencia St at 24th St   \n",
       "2       Downtown Berkeley BART          65th St at Hollis St   \n",
       "3      Church St at Duboce Ave        Grove St at Divisadero   \n",
       "4      Steuart St at Market St  The Embarcadero at Bryant St   \n",
       "\n",
       "  rental_access_method rideable_type              start_time  \\\n",
       "0                  NaN           NaN 2019-01-31 17:57:44.613   \n",
       "1                  NaN           NaN 2019-01-31 20:58:33.886   \n",
       "2                  NaN           NaN 2019-01-31 18:06:52.924   \n",
       "3                  NaN           NaN 2019-01-31 19:46:09.719   \n",
       "4                  NaN           NaN 2019-01-31 14:19:01.541   \n",
       "\n",
       "                 end_time   user_type  duration_min  start_year  start_month  \\\n",
       "0 2019-02-01 16:24:49.864  Subscriber   1347.087517        2019         2019   \n",
       "1 2019-02-01 15:16:54.173  Subscriber   1098.338117        2019         2019   \n",
       "2 2019-02-01 11:30:46.530    Customer   1043.893433        2019         2019   \n",
       "3 2019-02-01 08:10:50.318    Customer    744.676650        2019         2019   \n",
       "4 2019-02-01 07:10:51.065    Customer   1011.825400        2019         2019   \n",
       "\n",
       "   start_day  start_hour start_weekday  \n",
       "0         31          17      Thursday  \n",
       "1         31          20      Thursday  \n",
       "2         31          18      Thursday  \n",
       "3         31          19      Thursday  \n",
       "4         31          14      Thursday  "
      ]
     },
     "execution_count": 34,
     "metadata": {},
     "output_type": "execute_result"
    }
   ],
   "source": [
    "data.head()"
   ]
  },
  {
   "cell_type": "code",
   "execution_count": 35,
   "metadata": {},
   "outputs": [
    {
     "data": {
      "text/plain": [
       "start_station_name       778235\n",
       "end_station_name         791538\n",
       "rental_access_method    2598164\n",
       "rideable_type           2610955\n",
       "start_time                    0\n",
       "end_time                      0\n",
       "user_type                     0\n",
       "duration_min                  0\n",
       "start_year                    0\n",
       "start_month                   0\n",
       "start_day                     0\n",
       "start_hour                    0\n",
       "start_weekday                 0\n",
       "dtype: int64"
      ]
     },
     "execution_count": 35,
     "metadata": {},
     "output_type": "execute_result"
    }
   ],
   "source": [
    "data.isna().sum()"
   ]
  },
  {
   "cell_type": "markdown",
   "metadata": {},
   "source": [
    "**All good, no missing durations, we also got the year, month and day of each trip.**"
   ]
  },
  {
   "cell_type": "markdown",
   "metadata": {},
   "source": [
    "**So, what if we dropped all rows with missing values?**"
   ]
  },
  {
   "cell_type": "code",
   "execution_count": 36,
   "metadata": {},
   "outputs": [
    {
     "data": {
      "text/plain": [
       "(0, 13)"
      ]
     },
     "execution_count": 36,
     "metadata": {},
     "output_type": "execute_result"
    }
   ],
   "source": [
    "data.dropna().shape"
   ]
  },
  {
   "cell_type": "markdown",
   "metadata": {},
   "source": [
    "**WOW, we shouldn't do that!**\n",
    "\n",
    "\n",
    "**Let's keep them and clean each column of [start_station_name, end_station_name, rental_access_method, rideable_type] (if needed) individually when doing analysis.**"
   ]
  },
  {
   "cell_type": "code",
   "execution_count": 37,
   "metadata": {},
   "outputs": [
    {
     "data": {
      "text/html": [
       "<div>\n",
       "<style scoped>\n",
       "    .dataframe tbody tr th:only-of-type {\n",
       "        vertical-align: middle;\n",
       "    }\n",
       "\n",
       "    .dataframe tbody tr th {\n",
       "        vertical-align: top;\n",
       "    }\n",
       "\n",
       "    .dataframe thead th {\n",
       "        text-align: right;\n",
       "    }\n",
       "</style>\n",
       "<table border=\"1\" class=\"dataframe\">\n",
       "  <thead>\n",
       "    <tr style=\"text-align: right;\">\n",
       "      <th></th>\n",
       "      <th>duration_min</th>\n",
       "      <th>start_year</th>\n",
       "      <th>start_month</th>\n",
       "      <th>start_day</th>\n",
       "      <th>start_hour</th>\n",
       "    </tr>\n",
       "  </thead>\n",
       "  <tbody>\n",
       "    <tr>\n",
       "      <th>count</th>\n",
       "      <td>3.300213e+06</td>\n",
       "      <td>3.300213e+06</td>\n",
       "      <td>3.300213e+06</td>\n",
       "      <td>3.300213e+06</td>\n",
       "      <td>3.300213e+06</td>\n",
       "    </tr>\n",
       "    <tr>\n",
       "      <th>mean</th>\n",
       "      <td>1.776772e+01</td>\n",
       "      <td>2.019481e+03</td>\n",
       "      <td>2.019481e+03</td>\n",
       "      <td>1.594927e+01</td>\n",
       "      <td>1.376931e+01</td>\n",
       "    </tr>\n",
       "    <tr>\n",
       "      <th>std</th>\n",
       "      <td>4.746269e+02</td>\n",
       "      <td>4.996309e-01</td>\n",
       "      <td>4.996309e-01</td>\n",
       "      <td>8.829243e+00</td>\n",
       "      <td>4.719781e+00</td>\n",
       "    </tr>\n",
       "    <tr>\n",
       "      <th>min</th>\n",
       "      <td>-6.270000e+01</td>\n",
       "      <td>2.019000e+03</td>\n",
       "      <td>2.019000e+03</td>\n",
       "      <td>1.000000e+00</td>\n",
       "      <td>0.000000e+00</td>\n",
       "    </tr>\n",
       "    <tr>\n",
       "      <th>25%</th>\n",
       "      <td>6.153500e+00</td>\n",
       "      <td>2.019000e+03</td>\n",
       "      <td>2.019000e+03</td>\n",
       "      <td>8.000000e+00</td>\n",
       "      <td>9.000000e+00</td>\n",
       "    </tr>\n",
       "    <tr>\n",
       "      <th>50%</th>\n",
       "      <td>1.007530e+01</td>\n",
       "      <td>2.019000e+03</td>\n",
       "      <td>2.019000e+03</td>\n",
       "      <td>1.600000e+01</td>\n",
       "      <td>1.500000e+01</td>\n",
       "    </tr>\n",
       "    <tr>\n",
       "      <th>75%</th>\n",
       "      <td>1.626667e+01</td>\n",
       "      <td>2.020000e+03</td>\n",
       "      <td>2.020000e+03</td>\n",
       "      <td>2.400000e+01</td>\n",
       "      <td>1.700000e+01</td>\n",
       "    </tr>\n",
       "    <tr>\n",
       "      <th>max</th>\n",
       "      <td>2.890833e+05</td>\n",
       "      <td>2.020000e+03</td>\n",
       "      <td>2.020000e+03</td>\n",
       "      <td>3.100000e+01</td>\n",
       "      <td>2.300000e+01</td>\n",
       "    </tr>\n",
       "  </tbody>\n",
       "</table>\n",
       "</div>"
      ],
      "text/plain": [
       "       duration_min    start_year   start_month     start_day    start_hour\n",
       "count  3.300213e+06  3.300213e+06  3.300213e+06  3.300213e+06  3.300213e+06\n",
       "mean   1.776772e+01  2.019481e+03  2.019481e+03  1.594927e+01  1.376931e+01\n",
       "std    4.746269e+02  4.996309e-01  4.996309e-01  8.829243e+00  4.719781e+00\n",
       "min   -6.270000e+01  2.019000e+03  2.019000e+03  1.000000e+00  0.000000e+00\n",
       "25%    6.153500e+00  2.019000e+03  2.019000e+03  8.000000e+00  9.000000e+00\n",
       "50%    1.007530e+01  2.019000e+03  2.019000e+03  1.600000e+01  1.500000e+01\n",
       "75%    1.626667e+01  2.020000e+03  2.020000e+03  2.400000e+01  1.700000e+01\n",
       "max    2.890833e+05  2.020000e+03  2.020000e+03  3.100000e+01  2.300000e+01"
      ]
     },
     "execution_count": 37,
     "metadata": {},
     "output_type": "execute_result"
    }
   ],
   "source": [
    "data.describe()"
   ]
  },
  {
   "cell_type": "markdown",
   "metadata": {},
   "source": [
    "## Exploratory Data Analysis\n",
    "\n",
    "**Univariate relationships:**\n",
    "\n",
    "- Number of rides per user type; who does the most rides?\n",
    "- Explore most used bike_type.\n",
    "- Explore start_weekday of trips.\n",
    "- Explore start_hour of trips.\n",
    "- Find top 10 stations (top-start & top-end) and the common stations between them to target offers to users visiting these places.\n",
    "\n",
    "**Bivariate relationships:**\n",
    "\n",
    "- Find most crowded stations at rush hours.\n",
    "- Explore bike rides in 2019 and 2020 throughout the period of Jan:Aug, and see if COVID-19 affected the bussiness; number of rides.\n",
    "- Compare rental_methods and user_types.\n",
    "- Is there a relationship between trip hour-time and user_type?\n",
    "- Explore the relationship between user_type, trip duration.\n",
    "\n",
    "**Multivariate relationships:**\n",
    "- Explore the relationship between start_weekday, trip_duration and user_type.\n",
    "\n",
    "## Univariate relationships:"
   ]
  },
  {
   "cell_type": "code",
   "execution_count": 42,
   "metadata": {},
   "outputs": [],
   "source": [
    "# to display one color when needed\n",
    "base_color = sb.color_palette()[0]"
   ]
  },
  {
   "cell_type": "markdown",
   "metadata": {},
   "source": [
    "### Number of rides per user type; who does the most rides?\n"
   ]
  },
  {
   "cell_type": "code",
   "execution_count": 43,
   "metadata": {},
   "outputs": [
    {
     "data": {
      "image/png": "[encoded data removed]",
      "text/plain": [
       "<Figure size 1080x432 with 1 Axes>"
      ]
     },
     "metadata": {},
     "output_type": "display_data"
    }
   ],
   "source": [
    "plt.figure(figsize= [15, 6])\n",
    "o = data.groupby('user_type').user_type.count()\n",
    "plt.pie(o,labels=o.index, autopct='%1.1f%%', explode=[0,0.1], shadow=True, startangle=90)\n",
    "plt.title(\"Number of rides per user type \\n\");"
   ]
  },
  {
   "cell_type": "markdown",
   "metadata": {},
   "source": [
    "**Subscribed users do the most rides.**"
   ]
  },
  {
   "cell_type": "markdown",
   "metadata": {},
   "source": [
    "### Most used bike_type"
   ]
  },
  {
   "cell_type": "code",
   "execution_count": 44,
   "metadata": {},
   "outputs": [
    {
     "data": {
      "image/png": "[encoded data removed]",
      "text/plain": [
       "<Figure size 720x360 with 1 Axes>"
      ]
     },
     "metadata": {
      "needs_background": "light"
     },
     "output_type": "display_data"
    }
   ],
   "source": [
    "plt.figure(figsize= [10, 5])\n",
    "sb.countplot(x='rideable_type', data=data, color=base_color);\n",
    "plt.xlabel(\"Bike Type\");\n",
    "plt.ylabel(\"Number of rides\");\n",
    "plt.title(\"Number of rides per bike type\");"
   ]
  },
  {
   "cell_type": "markdown",
   "metadata": {},
   "source": [
    "**Most users prefer electric bike.**\n",
    "\n",
    "### Explore start_hour of trips (find rush hours)"
   ]
  },
  {
   "cell_type": "code",
   "execution_count": 47,
   "metadata": {},
   "outputs": [
    {
     "data": {
      "text/plain": [
       "Text(0, 0.5, 'Number of rides\\n')"
      ]
     },
     "execution_count": 47,
     "metadata": {},
     "output_type": "execute_result"
    },
    {
     "data": {
      "image/png": "[encoded data removed]",
      "text/plain": [
       "<Figure size 1080x360 with 1 Axes>"
      ]
     },
     "metadata": {
      "needs_background": "light"
     },
     "output_type": "display_data"
    }
   ],
   "source": [
    "plt.figure(figsize = [15, 5])\n",
    "sb.countplot(x=\"start_hour\",data=data)\n",
    "plt.title(\"Number of rides per hour \\n\",fontsize=15)\n",
    "plt.xlabel(\"\\n Hour\",fontsize=15)\n",
    "plt.ylabel(\"Number of rides\\n\",fontsize=15)"
   ]
  },
  {
   "cell_type": "markdown",
   "metadata": {},
   "source": [
    "**We can see that hours with the most trips are (8 AM, 9 AM, 5 PM and 6 PM) which are working hours. Users might be using the bikes to get to and from work.**"
   ]
  },
  {
   "cell_type": "markdown",
   "metadata": {},
   "source": [
    "## Some useful function we will use later:"
   ]
  },
  {
   "cell_type": "code",
   "execution_count": 60,
   "metadata": {},
   "outputs": [],
   "source": [
    "def get_top_n_stations(typ, n):\n",
    "    \n",
    "    if typ==\"start\":\n",
    "        return data[\"start_station_name\"].value_counts()[:n]\n",
    "    elif typ==\"end\":\n",
    "        return data[\"end_station_name\"].value_counts()[:n]\n",
    "    else:\n",
    "        return \"Invalid station type !\""
   ]
  },
  {
   "cell_type": "code",
   "execution_count": 71,
   "metadata": {},
   "outputs": [],
   "source": [
    "def get_common_stations(top_start, top_end):\n",
    "    \"\"\"\n",
    "    Args:\n",
    "    \n",
    "        top_start: top start stations\n",
    "        top_end: top end stations\n",
    "        \n",
    "    Returns:\n",
    "        \n",
    "        commons: common stations between top_start & top_end\n",
    "        total_n_trips: total number of trips from/to station\n",
    "    \n",
    "    \"\"\"\n",
    "    # getting common stations between top_start & top_end\n",
    "    # using .index to get station name.\n",
    "    commons = top_start_stations[top_start_stations.index.isin(top_end_stations.index)].index.tolist()\n",
    "    \n",
    "    # adding n_trips from station + n_trips to station\n",
    "    total_n_trips = top_start_stations[commons].values + top_end_stations[commons].values\n",
    "    \n",
    "    commons_df = pd.DataFrame({\"station_name\":commons, \"total_n_trips\":total_n_trips}).sort_values(by=\"total_n_trips\",ascending=False)\n",
    "    \n",
    "    return commons_df"
   ]
  },
  {
   "cell_type": "markdown",
   "metadata": {},
   "source": [
    "### Find top 10 stations (top-start & top-end) and the common stations between them to target offers to users visiting these places."
   ]
  },
  {
   "cell_type": "markdown",
   "metadata": {},
   "source": [
    "### Top Start Stations\n"
   ]
  },
  {
   "cell_type": "code",
   "execution_count": 72,
   "metadata": {},
   "outputs": [],
   "source": [
    "n = 10 # top n stations"
   ]
  },
  {
   "cell_type": "code",
   "execution_count": 73,
   "metadata": {},
   "outputs": [
    {
     "data": {
      "text/plain": [
       "Text(0, 0.5, 'Station')"
      ]
     },
     "execution_count": 73,
     "metadata": {},
     "output_type": "execute_result"
    },
    {
     "data": {
      "image/png": "[encoded data removed]",
      "text/plain": [
       "<Figure size 1080x432 with 1 Axes>"
      ]
     },
     "metadata": {
      "needs_background": "light"
     },
     "output_type": "display_data"
    }
   ],
   "source": [
    "top_start_stations = get_top_n_stations('start', n)\n",
    "\n",
    "plt.figure(figsize=(15,6))\n",
    "sb.barplot(top_start_stations.values,y=top_start_stations.index)\n",
    "plt.title(\"Top {} Start Stations\\n\".format(n), fontsize=15)\n",
    "plt.xlabel(\"\\n Number of trips from station\", fontsize=15)\n",
    "plt.ylabel(\"Station\", fontsize=15)"
   ]
  },
  {
   "cell_type": "code",
   "execution_count": 74,
   "metadata": {},
   "outputs": [
    {
     "data": {
      "text/plain": [
       "Text(0, 0.5, 'Number of trips to station')"
      ]
     },
     "execution_count": 74,
     "metadata": {},
     "output_type": "execute_result"
    },
    {
     "data": {
      "image/png": "[encoded data removed]",
      "text/plain": [
       "<Figure size 1080x432 with 1 Axes>"
      ]
     },
     "metadata": {
      "needs_background": "light"
     },
     "output_type": "display_data"
    }
   ],
   "source": [
    "top_end_stations = get_top_n_stations('end', n)\n",
    "\n",
    "plt.figure(figsize=(15,6))\n",
    "\n",
    "sb.barplot(top_end_stations.values, y= top_end_stations.index)\n",
    "\n",
    "plt.title(\"Top {} End Stations\\n\".format(n))\n",
    "plt.xlabel(\"\\n Station\")\n",
    "plt.ylabel(\"Number of trips to station\")"
   ]
  },
  {
   "cell_type": "markdown",
   "metadata": {},
   "source": [
    "### Common Stations between start&end stations"
   ]
  },
  {
   "cell_type": "code",
   "execution_count": 76,
   "metadata": {},
   "outputs": [
    {
     "data": {
      "image/png": "[encoded data removed]",
      "text/plain": [
       "<Figure size 1080x432 with 1 Axes>"
      ]
     },
     "metadata": {
      "needs_background": "light"
     },
     "output_type": "display_data"
    }
   ],
   "source": [
    "commons = get_common_stations(top_start_stations,top_end_stations)\n",
    "\n",
    "plt.figure(figsize=(15,6))\n",
    "\n",
    "sb.barplot(data = commons , x = \"total_n_trips\", y = \"station_name\")\n",
    "plt.title(\"Most Common Stations\\n\", fontsize=15);\n",
    "plt.xlabel(\"\\n Station\", fontsize=15);\n",
    "plt.ylabel(\"Number of trips to station\", fontsize=15);"
   ]
  },
  {
   "cell_type": "markdown",
   "metadata": {},
   "source": [
    "### Top End Stations"
   ]
  },
  {
   "cell_type": "code",
   "execution_count": 79,
   "metadata": {},
   "outputs": [
    {
     "data": {
      "image/png": "[encoded data removed]",
      "text/plain": [
       "<Figure size 1080x432 with 1 Axes>"
      ]
     },
     "metadata": {
      "needs_background": "light"
     },
     "output_type": "display_data"
    }
   ],
   "source": [
    "top_end_stations = get_top_n_stations(\"end\",n)\n",
    "\n",
    "plt.figure(figsize=(15,6))\n",
    "\n",
    "sb.barplot(x=top_end_stations.values,y=top_end_stations.index)\n",
    "plt.title(\"Top {} End Stations\\n\".format(n), fontsize=15);\n",
    "plt.xlabel(\"\\n Station\", fontsize=15);\n",
    "plt.ylabel(\"Number of trips to station\", fontsize=15);"
   ]
  },
  {
   "cell_type": "markdown",
   "metadata": {},
   "source": [
    "**As we noticed earlier, hours with the most trips are (8 AM, 9 AM, 5 PM and 6 PM) which are working hours, let's explore crowded stations..**"
   ]
  },
  {
   "cell_type": "markdown",
   "metadata": {},
   "source": [
    "### Most crowded stations at rush hours:"
   ]
  },
  {
   "cell_type": "code",
   "execution_count": 87,
   "metadata": {},
   "outputs": [
    {
     "data": {
      "image/png": "[encoded data removed]",
      "text/plain": [
       "<Figure size 1080x432 with 1 Axes>"
      ]
     },
     "metadata": {
      "needs_background": "light"
     },
     "output_type": "display_data"
    }
   ],
   "source": [
    "rush_hours_stations = data[data[\"start_hour\"].isin([8,9,17,18])][\"start_station_name\"].value_counts()[:10]\n",
    "plt.figure(figsize=(15,6))\n",
    "\n",
    "sb.barplot(x= rush_hours_stations.values, y= rush_hours_stations.index, color= base_color);\n",
    "\n",
    "plt.title(\"Rush hours Stations\\n\", fontsize=15);\n",
    "plt.xlabel(\"\\n Station\", fontsize=15);\n",
    "plt.ylabel(\"Number of trips to station\", fontsize=15);"
   ]
  },
  {
   "cell_type": "markdown",
   "metadata": {},
   "source": [
    "**We can attract users by providing offers to and from these stations.**"
   ]
  },
  {
   "cell_type": "markdown",
   "metadata": {},
   "source": [
    "### Bivariate relationships:\n",
    "\n",
    "### Inspect COVID-19 Effect\n",
    "\n",
    "Let's compare the number of rides in 2019 and 2020"
   ]
  },
  {
   "cell_type": "code",
   "execution_count": 95,
   "metadata": {},
   "outputs": [
    {
     "data": {
      "image/png": "[encoded data removed]",
      "text/plain": [
       "<Figure size 864x432 with 1 Axes>"
      ]
     },
     "metadata": {
      "needs_background": "light"
     },
     "output_type": "display_data"
    }
   ],
   "source": [
    "plt.figure(figsize = [12, 6])\n",
    "\n",
    "sb.countplot(x='start_month', data=data, hue='start_year');\n",
    "plt.xlabel(\"\\n Month\");\n",
    "plt.ylabel(\"Number of rides \\n\");\n",
    "plt.title(\"\\nNumber of rides per Month in 2019 & 2020 \\n\");\n",
    "plt.xticks(ticks=plt.xticks()[0], labels= (\"Jan\", \"Feb\", \"Mar\", \"Apr\", \"May\", \"Jun\", \"Jul\", \"Aug\"));"
   ]
  },
  {
   "cell_type": "markdown",
   "metadata": {},
   "source": [
    "**In 2020, bike rides numbers were at their highest, starting the year in Jan & Feb with higher number than those of 2019, however, we can notice that the number of rides had a surprising drop in March and kept dropping through April, the two months that had the most lockdowns and extreme measurements. The number of rides increased a bit at May, but comparing to 2019's numbers, COVID-19 affected the bike rides.**"
   ]
  },
  {
   "cell_type": "markdown",
   "metadata": {},
   "source": [
    "#### Total number of rides in 2019 & 2020 (Univariate)"
   ]
  },
  {
   "cell_type": "code",
   "execution_count": 97,
   "metadata": {},
   "outputs": [
    {
     "data": {
      "image/png": "[encoded data removed]",
      "text/plain": [
       "<Figure size 720x360 with 1 Axes>"
      ]
     },
     "metadata": {
      "needs_background": "light"
     },
     "output_type": "display_data"
    }
   ],
   "source": [
    "plt.figure(figsize= [10, 5])\n",
    "sb.countplot(x='start_year', data=data);\n",
    "plt.xlabel(\"Year\");\n",
    "plt.ylabel(\"Number of rides\");\n",
    "plt.title(\"Number of rides per year\");"
   ]
  },
  {
   "cell_type": "code",
   "execution_count": 98,
   "metadata": {},
   "outputs": [
    {
     "data": {
      "text/plain": [
       "126795"
      ]
     },
     "execution_count": 98,
     "metadata": {},
     "output_type": "execute_result"
    }
   ],
   "source": [
    "data.start_year.value_counts()[2019] - data.start_year.value_counts()[2020]"
   ]
  },
  {
   "cell_type": "markdown",
   "metadata": {},
   "source": [
    "**Apparently, COVID-19 has caused the bike rides to drop by 126795 in 2020 rides.**"
   ]
  },
  {
   "cell_type": "markdown",
   "metadata": {},
   "source": [
    "### Compare rental_methods and user_types"
   ]
  },
  {
   "cell_type": "code",
   "execution_count": 101,
   "metadata": {},
   "outputs": [
    {
     "data": {
      "image/png": "[encoded data removed]",
      "text/plain": [
       "<Figure size 720x360 with 1 Axes>"
      ]
     },
     "metadata": {
      "needs_background": "light"
     },
     "output_type": "display_data"
    }
   ],
   "source": [
    "plt.figure(figsize= [10, 5])\n",
    "sb.countplot(x=\"rental_access_method\",data=data,hue=\"user_type\")\n",
    "plt.xlabel(\"Access method\");\n",
    "plt.ylabel(\"Number of rides\\n\");\n",
    "plt.title(\"Number of rides per user_type & access_method \\n\");"
   ]
  },
  {
   "cell_type": "markdown",
   "metadata": {},
   "source": [
    "**The app is the preferred access method for both Subscribers & Customers, as most rides were made through the app. We might consider sending offers through the app.**"
   ]
  },
  {
   "cell_type": "markdown",
   "metadata": {},
   "source": [
    "### Is there a relationship between trip hour-time and user_type?"
   ]
  },
  {
   "cell_type": "code",
   "execution_count": 104,
   "metadata": {},
   "outputs": [
    {
     "data": {
      "text/plain": [
       "<matplotlib.axes._subplots.AxesSubplot at 0x205a775b8c8>"
      ]
     },
     "execution_count": 104,
     "metadata": {},
     "output_type": "execute_result"
    },
    {
     "data": {
      "image/png": "[encoded data removed]",
      "text/plain": [
       "<Figure size 1080x432 with 1 Axes>"
      ]
     },
     "metadata": {
      "needs_background": "light"
     },
     "output_type": "display_data"
    }
   ],
   "source": [
    "plt.figure(figsize= [15, 6])\n",
    "sb.countplot(x=\"start_hour\",data=data,hue=\"user_type\")"
   ]
  },
  {
   "cell_type": "markdown",
   "metadata": {},
   "source": [
    "**As we noticed earlier, most rides are done in begining and ending of working-hours (8 or 9 AM & 5 or 6 PM).**\n",
    "\n",
    "**It doesn't seem to be a relationship between start_hour and user_type as both user types make rides at these times. However, most rides at these hours are done by subscribers, which strengthen the possibility that users use the bikes to get to and from work.**\n",
    "\n",
    "**Providing offers at these hours can attract more users.**\n",
    "\n",
    "\n",
    "\n",
    "\n",
    "\n",
    "\n",
    "### Explore the relationship between user_type & trip duration\n",
    "\n",
    "**First, let's look at trip duration's distribution (all data)**"
   ]
  },
  {
   "cell_type": "code",
   "execution_count": 106,
   "metadata": {},
   "outputs": [
    {
     "data": {
      "image/png": "[encoded data removed]",
      "text/plain": [
       "<Figure size 1080x504 with 1 Axes>"
      ]
     },
     "metadata": {
      "needs_background": "light"
     },
     "output_type": "display_data"
    }
   ],
   "source": [
    "plt.figure(figsize= [15, 7])\n",
    "\n",
    "binsize = 1\n",
    "bins = np.arange(0, 100, binsize)\n",
    "\n",
    "plt.hist(data[data['duration_min'] <= 100]['duration_min'], bins= bins);\n",
    "plt.xlabel(\"\\n Trip duration (in minutes) Distribution\")\n",
    "plt.ylabel(\"Number of rides \\n\")\n",
    "plt.title(\"Trip duration\\n\");\n",
    "plt.axvline(x=data[data['duration_min'] <= 100]['duration_min'].mean(), color='red');"
   ]
  },
  {
   "cell_type": "markdown",
   "metadata": {},
   "source": [
    "**Trip duration follow a skewed-to-the-right normal distribution, with a mean of approximately 13.5, most rides are within the range of [0:20], although we removed durations > 100, there are some larger values (60/80, etc..)**\n",
    "\n",
    "### First, let's look at trip duration's distribution\n",
    "\n",
    "**Highlighting the two user types; Subscriber distribution in blue & Customer in orange**\n",
    "\n",
    "**Subscribers' mean is in black, while Customers' mean in green**"
   ]
  },
  {
   "cell_type": "code",
   "execution_count": 113,
   "metadata": {},
   "outputs": [
    {
     "data": {
      "text/plain": [
       "<matplotlib.legend.Legend at 0x205aac8b9c8>"
      ]
     },
     "execution_count": 113,
     "metadata": {},
     "output_type": "execute_result"
    },
    {
     "data": {
      "image/png": "[encoded data removed]",
      "text/plain": [
       "<Figure size 1080x432 with 1 Axes>"
      ]
     },
     "metadata": {
      "needs_background": "light"
     },
     "output_type": "display_data"
    }
   ],
   "source": [
    "plt.figure(figsize=(15,6))\n",
    "\n",
    "binsize=1\n",
    "bins = np.arange(0,100,binsize)\n",
    "\n",
    "subscribers = data.query('user_type == \"Subscriber\"')['duration_min']\n",
    "customers = data.query('user_type == \"Customer\"')['duration_min']\n",
    "\n",
    "plt.hist([subscribers, customers], bins= bins, label=['subscriber', 'customer']);\n",
    "plt.xlabel(\"\\n Trip duration (in minutes) distribution\")\n",
    "plt.ylabel(\"Number of rides \\n\")\n",
    "plt.title(\"trip duration (in minutes) per user type\\n\");\n",
    "\n",
    "mean_duration_subscriber = subscribers[subscribers <=100].mean()\n",
    "plt.axvline(x=mean_duration_subscriber,color=\"black\")\n",
    "\n",
    "mean_duration_customer = customers[customers <=100].mean()\n",
    "plt.axvline(x=mean_duration_customer, color=\"green\")\n",
    "plt.legend()"
   ]
  },
  {
   "cell_type": "code",
   "execution_count": 114,
   "metadata": {},
   "outputs": [
    {
     "data": {
      "text/plain": [
       "(11.479267344061467, 17.141217730080125)"
      ]
     },
     "execution_count": 114,
     "metadata": {},
     "output_type": "execute_result"
    }
   ],
   "source": [
    "mean_duration_subscriber, mean_duration_customer"
   ]
  },
  {
   "cell_type": "markdown",
   "metadata": {
    "ExecuteTime": {
     "end_time": "2020-10-13T23:40:49.784062Z",
     "start_time": "2020-10-13T23:40:49.768094Z"
    },
    "slideshow": {
     "slide_type": "fragment"
    }
   },
   "source": [
    "**We can see that customers have higher average trip duration than subscribers.**"
   ]
  },
  {
   "cell_type": "markdown",
   "metadata": {
    "ExecuteTime": {
     "end_time": "2020-10-13T20:44:26.501939Z",
     "start_time": "2020-10-13T20:44:26.490411Z"
    },
    "slideshow": {
     "slide_type": "slide"
    }
   },
   "source": [
    "## Multivariate relationships"
   ]
  },
  {
   "cell_type": "markdown",
   "metadata": {
    "ExecuteTime": {
     "end_time": "2020-10-13T20:44:26.501939Z",
     "start_time": "2020-10-13T20:44:26.490411Z"
    },
    "slideshow": {
     "slide_type": "slide"
    }
   },
   "source": [
    "### Explore the relationship between start_weekday, trip_duration and user_type"
   ]
  },
  {
   "cell_type": "code",
   "execution_count": 120,
   "metadata": {},
   "outputs": [
    {
     "data": {
      "text/plain": [
       "<matplotlib.axes._subplots.AxesSubplot at 0x205a6b4d208>"
      ]
     },
     "execution_count": 120,
     "metadata": {},
     "output_type": "execute_result"
    },
    {
     "data": {
      "image/png": "[encoded data removed]",
      "text/plain": [
       "<Figure size 1080x432 with 1 Axes>"
      ]
     },
     "metadata": {
      "needs_background": "light"
     },
     "output_type": "display_data"
    }
   ],
   "source": [
    "plt.figure(figsize= [15, 6])\n",
    "\n",
    "sb.barplot(x='start_weekday', y='duration_min', data=data, hue='user_type');\n",
    "plt.xlabel(\"weekday\");\n",
    "plt.ylabel(\"Trip duration\");\n",
    "plt.title(\"Trip Duration per weekday per user_type\");"
   ]
  },
  {
   "cell_type": "markdown",
   "metadata": {
    "ExecuteTime": {
     "end_time": "2020-10-13T23:40:49.784062Z",
     "start_time": "2020-10-13T23:40:49.768094Z"
    },
    "slideshow": {
     "slide_type": "fragment"
    }
   },
   "source": [
    "**The weekend (Saturday and Sunday) has the most trips, we can provide offers at thers days.**\n",
    "\n",
    "**We can also see that customers have more trip durations than subscribers, we can offer them subscribtion plans or bundles.**"
   ]
  },
  {
   "cell_type": "markdown",
   "metadata": {},
   "source": [
    "## Conclusion:\n",
    "\n",
    "- Subscribed users do the most rides.\n",
    "- Most users prefer electric bike.\n",
    "- Rush hours are (8 AM, 9 AM, 5 PM and 6 PM) which are working hours, providing offers from/to crowded stations at these times can attract users.\n",
    "- COVID-19 has caused the bike rides to drop by 127,993 in 2020 rides, the least number of rides was through the lockdown period (March:April 2020).\n",
    "- The app is the preferred access method for both Subscribers & Customers, we might consider sending offers through the app.\n",
    "- The weekend (Saturday and Sunday) has the most trips, we can provide offers at these days.\n",
    "- Customers have more trip durations than subscribers, we can offer them subscription plans or bundles."
   ]
  },
  {
   "cell_type": "code",
   "execution_count": null,
   "metadata": {},
   "outputs": [],
   "source": []
  }
 ],
 "metadata": {
  "kernelspec": {
   "display_name": "Python 3",
   "language": "python",
   "name": "python3"
  },
  "language_info": {
   "codemirror_mode": {
    "name": "ipython",
    "version": 3
   },
   "file_extension": ".py",
   "mimetype": "text/x-python",
   "name": "python",
   "nbconvert_exporter": "python",
   "pygments_lexer": "ipython3",
   "version": "3.7.6"
  }
 },
 "nbformat": 4,
 "nbformat_minor": 4
}
